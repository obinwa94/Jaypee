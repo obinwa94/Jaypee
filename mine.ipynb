{
 "cells": [
  {
   "cell_type": "code",
   "execution_count": 6,
   "id": "135bc724",
   "metadata": {},
   "outputs": [],
   "source": [
    "name = 'johnpaul'\n",
    "D = 12\n",
    "R = 2.67\n",
    "All = True"
   ]
  },
  {
   "cell_type": "code",
   "execution_count": 7,
   "id": "baed3281",
   "metadata": {},
   "outputs": [
    {
     "name": "stdout",
     "output_type": "stream",
     "text": [
      "<class 'str'>\n",
      "<class 'int'>\n",
      "<class 'float'>\n",
      "<class 'bool'>\n"
     ]
    }
   ],
   "source": [
    "print(type(name))\n",
    "print(type(D))\n",
    "print(type(R))\n",
    "print(type(All))"
   ]
  },
  {
   "cell_type": "code",
   "execution_count": 8,
   "id": "32bb446d",
   "metadata": {},
   "outputs": [
    {
     "data": {
      "text/plain": [
       "'12'"
      ]
     },
     "execution_count": 8,
     "metadata": {},
     "output_type": "execute_result"
    }
   ],
   "source": [
    "str(D) # converting integer to string"
   ]
  },
  {
   "cell_type": "code",
   "execution_count": 9,
   "id": "87abce81",
   "metadata": {},
   "outputs": [
    {
     "data": {
      "text/plain": [
       "12.0"
      ]
     },
     "execution_count": 9,
     "metadata": {},
     "output_type": "execute_result"
    }
   ],
   "source": [
    "float(D) # converting integer to float"
   ]
  },
  {
   "cell_type": "code",
   "execution_count": 10,
   "id": "2ec7043c",
   "metadata": {},
   "outputs": [
    {
     "data": {
      "text/plain": [
       "True"
      ]
     },
     "execution_count": 10,
     "metadata": {},
     "output_type": "execute_result"
    }
   ],
   "source": [
    "bool(D) # converting integer to boolean"
   ]
  },
  {
   "cell_type": "code",
   "execution_count": 12,
   "id": "b9070506",
   "metadata": {},
   "outputs": [
    {
     "data": {
      "text/plain": [
       "True"
      ]
     },
     "execution_count": 12,
     "metadata": {},
     "output_type": "execute_result"
    }
   ],
   "source": [
    "bool(name) # converting string to boolean"
   ]
  },
  {
   "cell_type": "code",
   "execution_count": 13,
   "id": "207f8609",
   "metadata": {},
   "outputs": [
    {
     "data": {
      "text/plain": [
       "2"
      ]
     },
     "execution_count": 13,
     "metadata": {},
     "output_type": "execute_result"
    }
   ],
   "source": [
    "int(R) # converting float to integer"
   ]
  },
  {
   "cell_type": "code",
   "execution_count": 16,
   "id": "a3f46769",
   "metadata": {},
   "outputs": [
    {
     "data": {
      "text/plain": [
       "'2.67'"
      ]
     },
     "execution_count": 16,
     "metadata": {},
     "output_type": "execute_result"
    }
   ],
   "source": [
    "str(R) # convertinng float to string"
   ]
  },
  {
   "cell_type": "code",
   "execution_count": 17,
   "id": "5340c7cd",
   "metadata": {},
   "outputs": [
    {
     "data": {
      "text/plain": [
       "True"
      ]
     },
     "execution_count": 17,
     "metadata": {},
     "output_type": "execute_result"
    }
   ],
   "source": [
    "bool(R) # converting float to boolean"
   ]
  },
  {
   "cell_type": "code",
   "execution_count": 18,
   "id": "04e63ad2",
   "metadata": {
    "scrolled": true
   },
   "outputs": [
    {
     "data": {
      "text/plain": [
       "1"
      ]
     },
     "execution_count": 18,
     "metadata": {},
     "output_type": "execute_result"
    }
   ],
   "source": [
    "int(All) # converting boolean to integer"
   ]
  },
  {
   "cell_type": "code",
   "execution_count": 19,
   "id": "d0aa622f",
   "metadata": {},
   "outputs": [
    {
     "data": {
      "text/plain": [
       "'True'"
      ]
     },
     "execution_count": 19,
     "metadata": {},
     "output_type": "execute_result"
    }
   ],
   "source": [
    "str(All) # converting boolean to string"
   ]
  },
  {
   "cell_type": "code",
   "execution_count": 20,
   "id": "4d8e9856",
   "metadata": {},
   "outputs": [
    {
     "data": {
      "text/plain": [
       "1.0"
      ]
     },
     "execution_count": 20,
     "metadata": {},
     "output_type": "execute_result"
    }
   ],
   "source": [
    "float(All) # converting boolean to float"
   ]
  },
  {
   "cell_type": "code",
   "execution_count": null,
   "id": "70de4b90",
   "metadata": {},
   "outputs": [],
   "source": [
    "    "
   ]
  }
 ],
 "metadata": {
  "kernelspec": {
   "display_name": "Python 3",
   "language": "python",
   "name": "python3"
  },
  "language_info": {
   "codemirror_mode": {
    "name": "ipython",
    "version": 3
   },
   "file_extension": ".py",
   "mimetype": "text/x-python",
   "name": "python",
   "nbconvert_exporter": "python",
   "pygments_lexer": "ipython3",
   "version": "3.8.8"
  }
 },
 "nbformat": 4,
 "nbformat_minor": 5
}
